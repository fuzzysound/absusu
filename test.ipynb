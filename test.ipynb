{
 "cells": [
  {
   "cell_type": "code",
   "execution_count": 28,
   "metadata": {
    "collapsed": true
   },
   "outputs": [],
   "source": [
    "from experimenter.models import *\n",
    "from django.db import connection"
   ]
  },
  {
   "cell_type": "code",
   "execution_count": 29,
   "metadata": {},
   "outputs": [
    {
     "name": "stdout",
     "output_type": "stream",
     "text": [
      "exp_banner\n",
      "exp\n",
      "'0'\n"
     ]
    }
   ],
   "source": [
    "for experiment in Experiment.objects.all():\n",
    "    print(experiment)"
   ]
  },
  {
   "cell_type": "code",
   "execution_count": 44,
   "metadata": {},
   "outputs": [],
   "source": [
    "with connection.cursor() as curs:\n",
    "    # check valid experiment\n",
    "    sql = 'select name from experimenter_experiment;'\n",
    "    curs.execute(sql)\n",
    "    rows = curs.fetchall()\n",
    "    experiment_list = [row[0] for row in rows]"
   ]
  },
  {
   "cell_type": "code",
   "execution_count": 45,
   "metadata": {},
   "outputs": [
    {
     "data": {
      "text/plain": [
       "[\"'0'\", 'exp', 'exp_banner']"
      ]
     },
     "execution_count": 45,
     "metadata": {},
     "output_type": "execute_result"
    }
   ],
   "source": [
    "experiment_list"
   ]
  },
  {
   "cell_type": "code",
   "execution_count": 59,
   "metadata": {},
   "outputs": [],
   "source": [
    "with connection.cursor() as curs:\n",
    "    sql = \"select g.act_subject from experimenter_goal g, experimenter_experiment e where g.experiment_id=e.id and e.name= '%s';\" % ('0')\n",
    "    curs.execute(sql)\n",
    "    rows = curs.fetchall()"
   ]
  },
  {
   "cell_type": "code",
   "execution_count": 60,
   "metadata": {},
   "outputs": [
    {
     "data": {
      "text/plain": [
       "()"
      ]
     },
     "execution_count": 60,
     "metadata": {},
     "output_type": "execute_result"
    }
   ],
   "source": [
    "rows"
   ]
  },
  {
   "cell_type": "code",
   "execution_count": null,
   "metadata": {
    "collapsed": true
   },
   "outputs": [],
   "source": [
    "with connection.cursor() as curs:\n",
    "    # check valid experiment\n",
    "    sql = 'select name from experimenter_experiment;'\n",
    "    curs.execute(sql)\n",
    "    rows = self.dictfetchall(curs)\n",
    "    experiment_list = [row['name'] for row in rows]\n",
    "\n",
    "    if experiment not in experiment_list:\n",
    "        print('Invalid experiment')\n",
    "        return None\n",
    "\n",
    "    # check valid act_subject\n",
    "    sql = \"select g.act_subject from experimenter_goal g, experimenter_experiment e \\\n",
    "                    where g.experiment_id=e.id and e.name= '%s';\" % (experiment)\n",
    "    curs.execute(sql)\n",
    "    rows = self.dictfetchall(curs)\n",
    "    act_subject_list = [row['act_subject'] for row in rows]\n",
    "\n",
    "    if act_subject not in act_subject_list:\n",
    "        print(\"Invalid act_subject\")\n",
    "        return None\n",
    "\n",
    "    # Caculating CTR\n",
    "    sql = \"select * from appserver_rest_useraction where json_extract(groups,'$.%s')='%s' and time < '%s' + INTERVAL 1 DAY;\"\\\n",
    "          % (experiment, group, date)\n",
    "    curs.execute(sql)\n",
    "    rows = self.dictfetchall(curs)\n",
    "\n",
    "    # initialize CTR variables\n",
    "    impressions = 0\n",
    "    clicks = 0\n",
    "    # count CTR variables for each rows\n",
    "    for row in rows:\n",
    "        if experiment in row['action'] and 'view' in row['action']:\n",
    "            impressions += 1\n",
    "        elif act_subject in row['action'] and 'click' in row['action']:\n",
    "            clicks += 1\n",
    "    ctr = clicks / impressions\n",
    "\n",
    "    return round(ctr, 3)"
   ]
  }
 ],
 "metadata": {
  "kernelspec": {
   "display_name": "Django Shell-Plus",
   "language": "python",
   "name": "django_extensions"
  },
  "language_info": {
   "codemirror_mode": {
    "name": "ipython",
    "version": 3
   },
   "file_extension": ".py",
   "mimetype": "text/x-python",
   "name": "python",
   "nbconvert_exporter": "python",
   "pygments_lexer": "ipython3",
   "version": "3.6.3"
  }
 },
 "nbformat": 4,
 "nbformat_minor": 2
}
