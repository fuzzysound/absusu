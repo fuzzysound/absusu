{
 "cells": [
  {
   "cell_type": "code",
   "execution_count": 3,
   "metadata": {
    "collapsed": true
   },
   "outputs": [],
   "source": [
    "from django.db import connection\n",
    "import os"
   ]
  },
  {
   "cell_type": "code",
   "execution_count": 8,
   "metadata": {},
   "outputs": [],
   "source": [
    "class KPI:\n",
    "    def __init__(self):\n",
    "        '''\n",
    "        initialize\n",
    "        '''\n",
    "        os.environ.setdefault(\"DJANGO_SETTINGS_MODULE\", \"absusu.settings\")\n",
    "\n",
    "    def dictfetchall(self,cursor):\n",
    "        '''\n",
    "        Return all rows from a cursor as a dict\"\n",
    "        :param cursor: cursor\n",
    "        :return: dict_cursor\n",
    "        '''\n",
    "        columns = [col[0] for col in cursor.description]\n",
    "        return [\n",
    "            dict(zip(columns, row))\n",
    "            for row in cursor.fetchall()\n",
    "        ]\n",
    "\n",
    "    # date: to specify time period\n",
    "    def CTR(self, experiment, group, act_subject, date):\n",
    "        '''\n",
    "        :param experiment: experiment to calculate\n",
    "        :param group: group to calculate under the experiment\n",
    "        :param act_subject: click-through rate target\n",
    "        :param date: specify date to calculate CTR\n",
    "        :return: click-through rate to the third decimal point of the corresponding parameters\n",
    "        '''\n",
    "        try:\n",
    "            with connection.cursor() as curs:\n",
    "                # check valid experiment\n",
    "                sql = 'select name from experimenter_experiment;'\n",
    "                curs.execute(sql)\n",
    "                rows = self.dictfetchall(curs)\n",
    "                experiment_list = [row['name'] for row in rows]\n",
    "\n",
    "                if experiment not in experiment_list:\n",
    "                    print('Invalid experiment')\n",
    "                    return None\n",
    "\n",
    "                # check valid act_subject\n",
    "                sql = \"select g.act_subject from experimenter_goal g, experimenter_experiment e \\\n",
    "                                where g.experiment_id=e.id and e.name= '%s';\" % (experiment)\n",
    "                curs.execute(sql)\n",
    "                rows = self.dictfetchall(curs)\n",
    "                act_subject_list = [row['act_subject'] for row in rows]\n",
    "\n",
    "                if act_subject not in act_subject_list:\n",
    "                    print(\"Invalid act_subject\")\n",
    "                    return None\n",
    "\n",
    "                # Caculating CTR\n",
    "                sql = \"select * from appserver_rest_useraction where json_extract(groups,'$.%s')='%s' and time < '%s' + INTERVAL 1 DAY;\"\\\n",
    "                      % (experiment, group, date)\n",
    "                curs.execute(sql)\n",
    "                rows = self.dictfetchall(curs)\n",
    "\n",
    "                # initialize CTR variables\n",
    "                impressions = 0\n",
    "                clicks = 0\n",
    "                # count CTR variables for each rows\n",
    "                for row in rows:\n",
    "                    if experiment in row['action'] and 'view' in row['action']:\n",
    "                        impressions += 1\n",
    "                    elif act_subject in row['action'] and 'click' in row['action']:\n",
    "                        clicks += 1\n",
    "                ctr = clicks / impressions\n",
    "\n",
    "                return round(ctr, 3)\n",
    "\n",
    "        except Exception as e:\n",
    "            return 0\n",
    "            # to make time series in dashboard.py reasonable, we need 0 when useraction does not occur\n",
    "            # print(e)\n",
    "\n",
    "    def stayTime(self, experiment, group, act_subject):\n",
    "        try:\n",
    "            with connection.cursor() as curs:\n",
    "                # check valid experiment\n",
    "                sql = 'select name from experimenter_experiment;'\n",
    "                curs.execute(sql)\n",
    "                rows = self.dictfetchall(curs)\n",
    "                experiment_list = [row['name'] for row in rows]\n",
    "                return experiment_list\n",
    "            \n",
    "                if experiment not in experiment_list:\n",
    "                    print('Invalid experiment')\n",
    "                    return None\n",
    "\n",
    "                # Caculating how long user stay at the page\n",
    "                sql = \"select * from appserver_rest_useraction where json_extract(groups,'$.%s')='%s';\" \\\n",
    "                      % (experiment, group)\n",
    "                curs.execute(sql)\n",
    "                rows = self.dictfetchall(curs)\n",
    "\n",
    "                # count CTR variables for each rows\n",
    "                return 'stay time'\n",
    "\n",
    "        except Exception as e:\n",
    "            return 0\n",
    "            # to make time series in dashboard.py reasonable, we need 0 when useraction does not occur\n",
    "            # print(e)"
   ]
  },
  {
   "cell_type": "code",
   "execution_count": 10,
   "metadata": {},
   "outputs": [],
   "source": [
    "kpi = KPI()"
   ]
  },
  {
   "cell_type": "code",
   "execution_count": null,
   "metadata": {
    "collapsed": true
   },
   "outputs": [],
   "source": [
    "kpi."
   ]
  }
 ],
 "metadata": {
  "kernelspec": {
   "display_name": "Django Shell-Plus",
   "language": "python",
   "name": "django_extensions"
  },
  "language_info": {
   "codemirror_mode": {
    "name": "ipython",
    "version": 3
   },
   "file_extension": ".py",
   "mimetype": "text/x-python",
   "name": "python",
   "nbconvert_exporter": "python",
   "pygments_lexer": "ipython3",
   "version": "3.6.3"
  }
 },
 "nbformat": 4,
 "nbformat_minor": 2
}
